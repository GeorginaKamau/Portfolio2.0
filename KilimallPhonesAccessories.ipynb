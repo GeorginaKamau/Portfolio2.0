{
 "cells": [
  {
   "cell_type": "code",
   "execution_count": 1,
   "id": "cca69c55-cb0d-443e-bcaa-964e474af669",
   "metadata": {},
   "outputs": [
    {
     "name": "stdout",
     "output_type": "stream",
     "text": [
      "Requirement already satisfied: selenium in c:\\users\\elitebook\\anaconda3\\lib\\site-packages (4.21.0)\n",
      "Requirement already satisfied: urllib3<3,>=1.26 in c:\\users\\elitebook\\anaconda3\\lib\\site-packages (from urllib3[socks]<3,>=1.26->selenium) (2.0.7)\n",
      "Requirement already satisfied: trio~=0.17 in c:\\users\\elitebook\\anaconda3\\lib\\site-packages (from selenium) (0.25.1)\n",
      "Requirement already satisfied: trio-websocket~=0.9 in c:\\users\\elitebook\\anaconda3\\lib\\site-packages (from selenium) (0.11.1)\n",
      "Requirement already satisfied: certifi>=2021.10.8 in c:\\users\\elitebook\\anaconda3\\lib\\site-packages (from selenium) (2024.2.2)\n",
      "Requirement already satisfied: typing_extensions>=4.9.0 in c:\\users\\elitebook\\anaconda3\\lib\\site-packages (from selenium) (4.9.0)\n",
      "Requirement already satisfied: attrs>=23.2.0 in c:\\users\\elitebook\\anaconda3\\lib\\site-packages (from trio~=0.17->selenium) (23.2.0)\n",
      "Requirement already satisfied: sortedcontainers in c:\\users\\elitebook\\anaconda3\\lib\\site-packages (from trio~=0.17->selenium) (2.4.0)\n",
      "Requirement already satisfied: idna in c:\\users\\elitebook\\anaconda3\\lib\\site-packages (from trio~=0.17->selenium) (3.4)\n",
      "Requirement already satisfied: outcome in c:\\users\\elitebook\\anaconda3\\lib\\site-packages (from trio~=0.17->selenium) (1.3.0.post0)\n",
      "Requirement already satisfied: sniffio>=1.3.0 in c:\\users\\elitebook\\anaconda3\\lib\\site-packages (from trio~=0.17->selenium) (1.3.0)\n",
      "Requirement already satisfied: cffi>=1.14 in c:\\users\\elitebook\\anaconda3\\lib\\site-packages (from trio~=0.17->selenium) (1.16.0)\n",
      "Requirement already satisfied: wsproto>=0.14 in c:\\users\\elitebook\\anaconda3\\lib\\site-packages (from trio-websocket~=0.9->selenium) (1.2.0)\n",
      "Requirement already satisfied: pysocks!=1.5.7,<2.0,>=1.5.6 in c:\\users\\elitebook\\anaconda3\\lib\\site-packages (from urllib3[socks]<3,>=1.26->selenium) (1.7.1)\n",
      "Requirement already satisfied: pycparser in c:\\users\\elitebook\\anaconda3\\lib\\site-packages (from cffi>=1.14->trio~=0.17->selenium) (2.21)\n",
      "Requirement already satisfied: h11<1,>=0.9.0 in c:\\users\\elitebook\\anaconda3\\lib\\site-packages (from wsproto>=0.14->trio-websocket~=0.9->selenium) (0.14.0)\n"
     ]
    }
   ],
   "source": [
    "#most ecommerce websites use Javascript dynamically; some content might not be in the initial html. For example:\n",
    "#product ratings and prices might be fetched from a server and rendered by JavaScript after the initial HTML document has been loaded.\n",
    "#Selenium allows you to automate web browsers--content loads fully before you can scrape it\n",
    "!pip install selenium"
   ]
  },
  {
   "cell_type": "code",
   "execution_count": 2,
   "id": "a6438ffd-837c-4cac-a2f1-1c2816c7fc88",
   "metadata": {},
   "outputs": [],
   "source": [
    "from selenium import webdriver\n",
    "from selenium.webdriver.chrome.service import Service\n",
    "from selenium.webdriver.chrome.options import Options\n",
    "from selenium.webdriver.common.by import By\n",
    "from bs4 import BeautifulSoup\n",
    "import pandas as pd\n",
    "import numpy as np\n",
    "import time"
   ]
  },
  {
   "cell_type": "code",
   "execution_count": 3,
   "id": "e6001dc9-d663-49a0-a026-78e78e3cc1e4",
   "metadata": {},
   "outputs": [],
   "source": [
    "# Configure Selenium WebDriver\n",
    "chrome_options = Options()\n",
    "chrome_options.add_argument(\"--headless\")  # Run in headless mode\n",
    "#chromedriver\n",
    "service= Service('C:/Users/elitebook/Downloads/chromedriver-win64/chromedriver.exe')"
   ]
  },
  {
   "cell_type": "code",
   "execution_count": 4,
   "id": "5b15f26f-defe-42c4-b78d-e13e76f05ed5",
   "metadata": {},
   "outputs": [],
   "source": [
    "# Initialize WebDriver\n",
    "driver = webdriver.Chrome(service=service, options=chrome_options)"
   ]
  },
  {
   "cell_type": "code",
   "execution_count": 5,
   "id": "7d76ab7d-5605-412c-8cba-e201e911b2a2",
   "metadata": {},
   "outputs": [],
   "source": [
    "#list to store Kilimall phones and accessories data\n",
    "products2 = []\n",
    "#there are 278 pages on the accessories section\n",
    "pages = 278"
   ]
  },
  {
   "cell_type": "code",
   "execution_count": 6,
   "id": "db963a3e-b8b0-4496-a513-90336feba04a",
   "metadata": {},
   "outputs": [],
   "source": [
    "for page in range(1, pages + 1):\n",
    "    # Navigate to the page\n",
    "    url = f\"https://www.kilimall.co.ke/search-result?id=872&form=category&ctgName=Phones+&+Accessories\"\n",
    "    driver.get(url)\n",
    "    time.sleep(3)  "
   ]
  },
  {
   "cell_type": "code",
   "execution_count": 7,
   "id": "a11fd5ef-cb64-4e7a-a060-8a4fd361e73d",
   "metadata": {},
   "outputs": [],
   "source": [
    "# Parse page content with BeautifulSoup\n",
    "soup = BeautifulSoup(driver.page_source, 'lxml')"
   ]
  },
  {
   "cell_type": "code",
   "execution_count": 8,
   "id": "ccbf8767-be67-488c-b6c4-8c4b4b79daa6",
   "metadata": {},
   "outputs": [],
   "source": [
    "# Find all product items\n",
    "items = soup.find_all('div', class_='product-item')"
   ]
  },
  {
   "cell_type": "code",
   "execution_count": 9,
   "id": "06290cbe-7e17-410c-af9e-9092c4f95bb6",
   "metadata": {},
   "outputs": [],
   "source": [
    "for item in items:\n",
    "    # Extract product details\n",
    "    product_name = item.find('p', class_='product-title').text.strip() if item.find('p', class_='product-title') else 'N/A'\n",
    "    price = item.find('div', class_='product-price').text.strip() if item.find('div', class_='product-price') else 'N/A'\n",
    "    # Append the product details to the list\n",
    "    products2.append({\n",
    "        'ProductName': product_name,\n",
    "        'Price': price\n",
    "        })        "
   ]
  },
  {
   "cell_type": "code",
   "execution_count": 10,
   "id": "b340efa2-7493-4c89-a889-ac4a3b4f6e87",
   "metadata": {},
   "outputs": [
    {
     "name": "stdout",
     "output_type": "stream",
     "text": [
      "Scraped page 278/278\n"
     ]
    }
   ],
   "source": [
    "# Optional: Print progress\n",
    "print(f\"Scraped page {page}/{pages}\")"
   ]
  },
  {
   "cell_type": "code",
   "execution_count": 11,
   "id": "bfaa92c9-06a1-4281-b90c-489d836593a4",
   "metadata": {},
   "outputs": [
    {
     "data": {
      "text/html": [
       "<div>\n",
       "<style scoped>\n",
       "    .dataframe tbody tr th:only-of-type {\n",
       "        vertical-align: middle;\n",
       "    }\n",
       "\n",
       "    .dataframe tbody tr th {\n",
       "        vertical-align: top;\n",
       "    }\n",
       "\n",
       "    .dataframe thead th {\n",
       "        text-align: right;\n",
       "    }\n",
       "</style>\n",
       "<table border=\"1\" class=\"dataframe\">\n",
       "  <thead>\n",
       "    <tr style=\"text-align: right;\">\n",
       "      <th></th>\n",
       "      <th>ProductName</th>\n",
       "      <th>Price</th>\n",
       "    </tr>\n",
       "  </thead>\n",
       "  <tbody>\n",
       "    <tr>\n",
       "      <th>17</th>\n",
       "      <td>2.1M Tripod Stand with 10 Inch LED Ring Light-...</td>\n",
       "      <td>KSh 1,469</td>\n",
       "    </tr>\n",
       "    <tr>\n",
       "      <th>6</th>\n",
       "      <td>Refurbished OPPO R15X 128GB+6GB 6.4'' Face unl...</td>\n",
       "      <td>KSh 9,477</td>\n",
       "    </tr>\n",
       "    <tr>\n",
       "      <th>16</th>\n",
       "      <td>TECNO POP 8 128GB + 8(4+4)GB 6.6\" 90Hz Hole Sc...</td>\n",
       "      <td>KSh 10,959</td>\n",
       "    </tr>\n",
       "    <tr>\n",
       "      <th>11</th>\n",
       "      <td>Vonex X10 Camera, FM Radio, Dual Sim, Battery ...</td>\n",
       "      <td>KSh 1,599</td>\n",
       "    </tr>\n",
       "    <tr>\n",
       "      <th>13</th>\n",
       "      <td>Refurbished Samsung Galaxy g7200 Smartphones 1...</td>\n",
       "      <td>KSh 3,999</td>\n",
       "    </tr>\n",
       "    <tr>\n",
       "      <th>12</th>\n",
       "      <td>Refurbished OPPO A57 F1 32GB+3GB 5.2 \" 13MP+16...</td>\n",
       "      <td>KSh 4,499</td>\n",
       "    </tr>\n",
       "    <tr>\n",
       "      <th>22</th>\n",
       "      <td>【3 free gifts】High Speed TF Card Micro SD Card...</td>\n",
       "      <td>KSh 459</td>\n",
       "    </tr>\n",
       "    <tr>\n",
       "      <th>23</th>\n",
       "      <td>[Anniversary sales]  Xiaomi Redmi 13C 128/256G...</td>\n",
       "      <td>KSh 13,250</td>\n",
       "    </tr>\n",
       "    <tr>\n",
       "      <th>8</th>\n",
       "      <td>[Anniversary Sale] Itel A70 128GB+8(3+5)GB / 2...</td>\n",
       "      <td>KSh 9,999</td>\n",
       "    </tr>\n",
       "    <tr>\n",
       "      <th>0</th>\n",
       "      <td>TECNO SPARK 20 128GB +8(4+4)GB RAM 90Hz 6.6\" M...</td>\n",
       "      <td>KSh 13,499</td>\n",
       "    </tr>\n",
       "  </tbody>\n",
       "</table>\n",
       "</div>"
      ],
      "text/plain": [
       "                                          ProductName       Price\n",
       "17  2.1M Tripod Stand with 10 Inch LED Ring Light-...   KSh 1,469\n",
       "6   Refurbished OPPO R15X 128GB+6GB 6.4'' Face unl...   KSh 9,477\n",
       "16  TECNO POP 8 128GB + 8(4+4)GB 6.6\" 90Hz Hole Sc...  KSh 10,959\n",
       "11  Vonex X10 Camera, FM Radio, Dual Sim, Battery ...   KSh 1,599\n",
       "13  Refurbished Samsung Galaxy g7200 Smartphones 1...   KSh 3,999\n",
       "12  Refurbished OPPO A57 F1 32GB+3GB 5.2 \" 13MP+16...   KSh 4,499\n",
       "22  【3 free gifts】High Speed TF Card Micro SD Card...     KSh 459\n",
       "23  [Anniversary sales]  Xiaomi Redmi 13C 128/256G...  KSh 13,250\n",
       "8   [Anniversary Sale] Itel A70 128GB+8(3+5)GB / 2...   KSh 9,999\n",
       "0   TECNO SPARK 20 128GB +8(4+4)GB RAM 90Hz 6.6\" M...  KSh 13,499"
      ]
     },
     "execution_count": 11,
     "metadata": {},
     "output_type": "execute_result"
    }
   ],
   "source": [
    "# Create a DataFrame from the list of products\n",
    "df = pd.DataFrame(products2)\n",
    "#View a sample of how the dataframe turned out \n",
    "df.sample(10)"
   ]
  },
  {
   "cell_type": "code",
   "execution_count": 12,
   "id": "0bc6d042-dec4-4b5c-be16-98eee8b9f49a",
   "metadata": {},
   "outputs": [],
   "source": [
    "# Close the browser\n",
    "driver.quit()"
   ]
  },
  {
   "cell_type": "code",
   "execution_count": 13,
   "id": "be2963a9-2ab4-4304-af80-032e2923010d",
   "metadata": {},
   "outputs": [],
   "source": [
    "# Save the DataFrame to a CSV file\n",
    "df.to_csv('KilimallPhoneAccessories.csv', index=False)"
   ]
  },
  {
   "cell_type": "code",
   "execution_count": 14,
   "id": "bc7dd71b-29a7-4841-bd76-4ebc4313cd45",
   "metadata": {},
   "outputs": [],
   "source": [
    "#Additional stuff to extract\n",
    "#Numberofrating = item.find('span', class_='reviews').text.strip() if item.find('span', class_='reviews') else 'N/A'\n",
    "\n",
    "#'NumberofReviews': Numberofrating,"
   ]
  }
 ],
 "metadata": {
  "kernelspec": {
   "display_name": "Python 3 (ipykernel)",
   "language": "python",
   "name": "python3"
  },
  "language_info": {
   "codemirror_mode": {
    "name": "ipython",
    "version": 3
   },
   "file_extension": ".py",
   "mimetype": "text/x-python",
   "name": "python",
   "nbconvert_exporter": "python",
   "pygments_lexer": "ipython3",
   "version": "3.11.7"
  }
 },
 "nbformat": 4,
 "nbformat_minor": 5
}
